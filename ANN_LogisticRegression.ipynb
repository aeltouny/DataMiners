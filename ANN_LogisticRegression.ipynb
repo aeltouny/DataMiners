{
  "nbformat": 4,
  "nbformat_minor": 0,
  "metadata": {
    "colab": {
      "name": "ANN-LogisticRegression.ipynb",
      "provenance": [],
      "collapsed_sections": [],
      "authorship_tag": "ABX9TyMxSRT8aD3zOAmWVlP/jumA",
      "include_colab_link": true
    },
    "kernelspec": {
      "name": "python3",
      "display_name": "Python 3"
    }
  },
  "cells": [
    {
      "cell_type": "markdown",
      "metadata": {
        "id": "view-in-github",
        "colab_type": "text"
      },
      "source": [
        "<a href=\"https://colab.research.google.com/github/aeltouny/DataMiners/blob/master/ANN_LogisticRegression.ipynb\" target=\"_parent\"><img src=\"https://colab.research.google.com/assets/colab-badge.svg\" alt=\"Open In Colab\"/></a>"
      ]
    },
    {
      "cell_type": "markdown",
      "metadata": {
        "id": "KmkvEoPj8c7X",
        "colab_type": "text"
      },
      "source": [
        "# Data Preprocessing"
      ]
    },
    {
      "cell_type": "markdown",
      "metadata": {
        "id": "dvykU-J08oGd",
        "colab_type": "text"
      },
      "source": [
        "## Load Data"
      ]
    },
    {
      "cell_type": "code",
      "metadata": {
        "id": "fuUhiHjj8roS",
        "colab_type": "code",
        "colab": {
          "base_uri": "https://localhost:8080/",
          "height": 136
        },
        "outputId": "0f69ece8-dc7d-4ae7-ed14-84a73437650e"
      },
      "source": [
        "import pandas as pd \n",
        "workDF = pd.read_excel(\"Folds5x2_pp.xlsx\")\n",
        "print(workDF.head())\n",
        "print(workDF.columns)\n"
      ],
      "execution_count": 3,
      "outputs": [
        {
          "output_type": "stream",
          "text": [
            "      AT      V       AP     RH      PE\n",
            "0  14.96  41.76  1024.07  73.17  463.26\n",
            "1  25.18  62.96  1020.04  59.08  444.37\n",
            "2   5.11  39.40  1012.16  92.14  488.56\n",
            "3  20.86  57.32  1010.24  76.64  446.48\n",
            "4  10.82  37.50  1009.23  96.62  473.90\n",
            "Index(['AT', 'V', 'AP', 'RH', 'PE'], dtype='object')\n"
          ],
          "name": "stdout"
        }
      ]
    },
    {
      "cell_type": "markdown",
      "metadata": {
        "id": "FIu3NKsoCkwf",
        "colab_type": "text"
      },
      "source": [
        "## Remove Unnecessary Columns"
      ]
    },
    {
      "cell_type": "markdown",
      "metadata": {
        "id": "qfTDceP-Cuet",
        "colab_type": "text"
      },
      "source": [
        "All Columns are required"
      ]
    },
    {
      "cell_type": "markdown",
      "metadata": {
        "id": "7_JGHCe_C1ki",
        "colab_type": "text"
      },
      "source": [
        "## Check for missing data in the numerical fields"
      ]
    },
    {
      "cell_type": "code",
      "metadata": {
        "id": "I0-3ImkdDNfe",
        "colab_type": "code",
        "colab": {
          "base_uri": "https://localhost:8080/",
          "height": 255
        },
        "outputId": "269c3386-6f6a-49e7-c480-6a385c2924f3"
      },
      "source": [
        "import numpy as np\n",
        "from sklearn.impute import SimpleImputer\n",
        "chcol_index = [0,1,2,3]\n",
        "imputer = SimpleImputer(missing_values=np.nan , strategy=\"mean\")\n",
        "imputer.fit(workDF.iloc[:, chcol_index])\n",
        "temp_array =imputer.transform(workDF.iloc[:, chcol_index])\n",
        "x=0\n",
        "for i in chcol_index :\n",
        "    workDF.iloc[:,i]= temp_array[:,x]\n",
        "    x+=1\n",
        "print(workDF)"
      ],
      "execution_count": 4,
      "outputs": [
        {
          "output_type": "stream",
          "text": [
            "         AT      V       AP     RH      PE\n",
            "0     14.96  41.76  1024.07  73.17  463.26\n",
            "1     25.18  62.96  1020.04  59.08  444.37\n",
            "2      5.11  39.40  1012.16  92.14  488.56\n",
            "3     20.86  57.32  1010.24  76.64  446.48\n",
            "4     10.82  37.50  1009.23  96.62  473.90\n",
            "...     ...    ...      ...    ...     ...\n",
            "9563  16.65  49.69  1014.01  91.00  460.03\n",
            "9564  13.19  39.18  1023.67  66.78  469.62\n",
            "9565  31.32  74.33  1012.92  36.48  429.57\n",
            "9566  24.48  69.45  1013.86  62.39  435.74\n",
            "9567  21.60  62.52  1017.23  67.87  453.28\n",
            "\n",
            "[9568 rows x 5 columns]\n"
          ],
          "name": "stdout"
        }
      ]
    },
    {
      "cell_type": "markdown",
      "metadata": {
        "id": "Qj_k4o1EDlI1",
        "colab_type": "text"
      },
      "source": [
        "## Encoding Categorical Data"
      ]
    },
    {
      "cell_type": "markdown",
      "metadata": {
        "id": "ZUROIqyDDqoT",
        "colab_type": "text"
      },
      "source": [
        "No Categorical Data"
      ]
    },
    {
      "cell_type": "markdown",
      "metadata": {
        "id": "GrQ518CTD0Ea",
        "colab_type": "text"
      },
      "source": [
        "## Split Data into Train and Validate"
      ]
    },
    {
      "cell_type": "code",
      "metadata": {
        "id": "CbL_W-dQD6mO",
        "colab_type": "code",
        "colab": {
          "base_uri": "https://localhost:8080/",
          "height": 51
        },
        "outputId": "075dbb90-6d0c-49ca-a238-25b8b42de1bc"
      },
      "source": [
        "from sklearn.model_selection import train_test_split\n",
        "traindf , validatedf = train_test_split(workDF, test_size=.2, random_state=0 )\n",
        "print(\"Train dataset precentage\" , len(traindf)/len(workDF))\n",
        "print(\"Validate dataset precentage\" , len(validatedf)/len(workDF))"
      ],
      "execution_count": 6,
      "outputs": [
        {
          "output_type": "stream",
          "text": [
            "Train dataset precentage 0.7999581939799331\n",
            "Validate dataset precentage 0.20004180602006688\n"
          ],
          "name": "stdout"
        }
      ]
    },
    {
      "cell_type": "markdown",
      "metadata": {
        "id": "HJOIhwTWEUql",
        "colab_type": "text"
      },
      "source": [
        "## Normalize Train and Validate Dataset"
      ]
    },
    {
      "cell_type": "markdown",
      "metadata": {
        "id": "wGOFLfz0EaaZ",
        "colab_type": "text"
      },
      "source": [
        "### Split Train and Validate into dep and indep"
      ]
    },
    {
      "cell_type": "code",
      "metadata": {
        "id": "SkCQFmDbEf2f",
        "colab_type": "code",
        "colab": {}
      },
      "source": [
        "traindf_indep = traindf.iloc[:,:-1]\n",
        "traindf_dep= traindf.iloc[:,-1]\n",
        "validatedf_indep = validatedf.iloc[:,:-1]\n",
        "validatedf_dep= validatedf.iloc[:,-1]"
      ],
      "execution_count": 7,
      "outputs": []
    },
    {
      "cell_type": "markdown",
      "metadata": {
        "id": "-tweFhusEpgE",
        "colab_type": "text"
      },
      "source": [
        "### Normalize Train and Validate indp"
      ]
    },
    {
      "cell_type": "code",
      "metadata": {
        "id": "azztv3dvEwGz",
        "colab_type": "code",
        "colab": {}
      },
      "source": [
        "from sklearn.preprocessing import StandardScaler\n",
        "ssc= StandardScaler()\n",
        "traindf_indep= ssc.fit_transform(traindf_indep)\n",
        "validatedf_indep = ssc.transform(validatedf_indep)"
      ],
      "execution_count": 9,
      "outputs": []
    },
    {
      "cell_type": "markdown",
      "metadata": {
        "id": "20mUzfvfBK5D",
        "colab_type": "text"
      },
      "source": [
        "# Build ANN"
      ]
    },
    {
      "cell_type": "code",
      "metadata": {
        "id": "oX-2GGpGFIzk",
        "colab_type": "code",
        "colab": {}
      },
      "source": [
        "import tensorflow as tf\n",
        "ann = tf.keras.models.Sequential()"
      ],
      "execution_count": 10,
      "outputs": []
    },
    {
      "cell_type": "markdown",
      "metadata": {
        "id": "avRJYst7-Ah1",
        "colab_type": "text"
      },
      "source": [
        "First Layer"
      ]
    },
    {
      "cell_type": "code",
      "metadata": {
        "id": "v1mVdWpe3lco",
        "colab_type": "code",
        "colab": {}
      },
      "source": [
        "ann.add(tf.keras.layers.Dense(units= 6 , activation= \"relu\"))"
      ],
      "execution_count": 12,
      "outputs": []
    },
    {
      "cell_type": "markdown",
      "metadata": {
        "id": "jQAf9Z7F-Ces",
        "colab_type": "text"
      },
      "source": [
        "Second Layer"
      ]
    },
    {
      "cell_type": "code",
      "metadata": {
        "id": "nGYR3o9v34do",
        "colab_type": "code",
        "colab": {}
      },
      "source": [
        "ann.add(tf.keras.layers.Dense(units= 6 , activation= \"relu\"))"
      ],
      "execution_count": 13,
      "outputs": []
    },
    {
      "cell_type": "markdown",
      "metadata": {
        "id": "qJmMhed-99aG",
        "colab_type": "text"
      },
      "source": [
        "Output Layer"
      ]
    },
    {
      "cell_type": "code",
      "metadata": {
        "id": "OiGIabN6-HJq",
        "colab_type": "code",
        "colab": {}
      },
      "source": [
        "ann.add(tf.keras.layers.Dense(units= 1))"
      ],
      "execution_count": 14,
      "outputs": []
    },
    {
      "cell_type": "markdown",
      "metadata": {
        "id": "aeHFjfBzT-sF",
        "colab_type": "text"
      },
      "source": [
        "# Compile ANN"
      ]
    },
    {
      "cell_type": "code",
      "metadata": {
        "id": "mqGhy5UxUDnS",
        "colab_type": "code",
        "colab": {}
      },
      "source": [
        "ann.compile(optimizer='adam', loss = \"mean_squared_error\")"
      ],
      "execution_count": 15,
      "outputs": []
    },
    {
      "cell_type": "markdown",
      "metadata": {
        "id": "TaLnnj_WBOMr",
        "colab_type": "text"
      },
      "source": [
        "# Train ANN"
      ]
    },
    {
      "cell_type": "code",
      "metadata": {
        "id": "8v0MM7G6Uf0n",
        "colab_type": "code",
        "colab": {
          "base_uri": "https://localhost:8080/",
          "height": 1000
        },
        "outputId": "5272cc0d-5461-44c9-9a61-516143fab937"
      },
      "source": [
        "ann.fit(traindf_indep, traindf_dep, batch_size = 32 , epochs=100)"
      ],
      "execution_count": 16,
      "outputs": [
        {
          "output_type": "stream",
          "text": [
            "Epoch 1/100\n",
            "240/240 [==============================] - 0s 887us/step - loss: 202738.8594\n",
            "Epoch 2/100\n",
            "240/240 [==============================] - 0s 823us/step - loss: 154713.8906\n",
            "Epoch 3/100\n",
            "240/240 [==============================] - 0s 768us/step - loss: 55174.2656\n",
            "Epoch 4/100\n",
            "240/240 [==============================] - 0s 823us/step - loss: 19234.9102\n",
            "Epoch 5/100\n",
            "240/240 [==============================] - 0s 776us/step - loss: 12053.5469\n",
            "Epoch 6/100\n",
            "240/240 [==============================] - 0s 846us/step - loss: 7759.4277\n",
            "Epoch 7/100\n",
            "240/240 [==============================] - 0s 792us/step - loss: 4509.8057\n",
            "Epoch 8/100\n",
            "240/240 [==============================] - 0s 828us/step - loss: 2417.2925\n",
            "Epoch 9/100\n",
            "240/240 [==============================] - 0s 830us/step - loss: 1340.3000\n",
            "Epoch 10/100\n",
            "240/240 [==============================] - 0s 820us/step - loss: 852.4218\n",
            "Epoch 11/100\n",
            "240/240 [==============================] - 0s 806us/step - loss: 589.7554\n",
            "Epoch 12/100\n",
            "240/240 [==============================] - 0s 821us/step - loss: 421.9112\n",
            "Epoch 13/100\n",
            "240/240 [==============================] - 0s 806us/step - loss: 309.0873\n",
            "Epoch 14/100\n",
            "240/240 [==============================] - 0s 798us/step - loss: 232.3849\n",
            "Epoch 15/100\n",
            "240/240 [==============================] - 0s 784us/step - loss: 178.1311\n",
            "Epoch 16/100\n",
            "240/240 [==============================] - 0s 827us/step - loss: 138.2959\n",
            "Epoch 17/100\n",
            "240/240 [==============================] - 0s 803us/step - loss: 106.7487\n",
            "Epoch 18/100\n",
            "240/240 [==============================] - 0s 784us/step - loss: 82.7298\n",
            "Epoch 19/100\n",
            "240/240 [==============================] - 0s 810us/step - loss: 65.8362\n",
            "Epoch 20/100\n",
            "240/240 [==============================] - 0s 791us/step - loss: 53.2840\n",
            "Epoch 21/100\n",
            "240/240 [==============================] - 0s 827us/step - loss: 44.3792\n",
            "Epoch 22/100\n",
            "240/240 [==============================] - 0s 826us/step - loss: 37.9289\n",
            "Epoch 23/100\n",
            "240/240 [==============================] - 0s 815us/step - loss: 33.4808\n",
            "Epoch 24/100\n",
            "240/240 [==============================] - 0s 779us/step - loss: 30.5419\n",
            "Epoch 25/100\n",
            "240/240 [==============================] - 0s 789us/step - loss: 28.1653\n",
            "Epoch 26/100\n",
            "240/240 [==============================] - 0s 795us/step - loss: 26.6465\n",
            "Epoch 27/100\n",
            "240/240 [==============================] - 0s 817us/step - loss: 25.4061\n",
            "Epoch 28/100\n",
            "240/240 [==============================] - 0s 853us/step - loss: 24.6686\n",
            "Epoch 29/100\n",
            "240/240 [==============================] - 0s 892us/step - loss: 23.9709\n",
            "Epoch 30/100\n",
            "240/240 [==============================] - 0s 772us/step - loss: 23.3331\n",
            "Epoch 31/100\n",
            "240/240 [==============================] - 0s 804us/step - loss: 22.9703\n",
            "Epoch 32/100\n",
            "240/240 [==============================] - 0s 777us/step - loss: 22.8354\n",
            "Epoch 33/100\n",
            "240/240 [==============================] - 0s 858us/step - loss: 22.5942\n",
            "Epoch 34/100\n",
            "240/240 [==============================] - 0s 782us/step - loss: 22.4612\n",
            "Epoch 35/100\n",
            "240/240 [==============================] - 0s 776us/step - loss: 22.4420\n",
            "Epoch 36/100\n",
            "240/240 [==============================] - 0s 824us/step - loss: 22.1332\n",
            "Epoch 37/100\n",
            "240/240 [==============================] - 0s 853us/step - loss: 22.2243\n",
            "Epoch 38/100\n",
            "240/240 [==============================] - 0s 900us/step - loss: 22.1453\n",
            "Epoch 39/100\n",
            "240/240 [==============================] - 0s 844us/step - loss: 22.1551\n",
            "Epoch 40/100\n",
            "240/240 [==============================] - 0s 789us/step - loss: 22.4121\n",
            "Epoch 41/100\n",
            "240/240 [==============================] - 0s 805us/step - loss: 21.9419\n",
            "Epoch 42/100\n",
            "240/240 [==============================] - 0s 795us/step - loss: 22.1655\n",
            "Epoch 43/100\n",
            "240/240 [==============================] - 0s 816us/step - loss: 21.9751\n",
            "Epoch 44/100\n",
            "240/240 [==============================] - 0s 826us/step - loss: 21.9037\n",
            "Epoch 45/100\n",
            "240/240 [==============================] - 0s 769us/step - loss: 21.8536\n",
            "Epoch 46/100\n",
            "240/240 [==============================] - 0s 797us/step - loss: 21.7522\n",
            "Epoch 47/100\n",
            "240/240 [==============================] - 0s 867us/step - loss: 21.6517\n",
            "Epoch 48/100\n",
            "240/240 [==============================] - 0s 791us/step - loss: 21.8991\n",
            "Epoch 49/100\n",
            "240/240 [==============================] - 0s 794us/step - loss: 21.8544\n",
            "Epoch 50/100\n",
            "240/240 [==============================] - 0s 784us/step - loss: 22.0162\n",
            "Epoch 51/100\n",
            "240/240 [==============================] - 0s 872us/step - loss: 21.9408\n",
            "Epoch 52/100\n",
            "240/240 [==============================] - 0s 803us/step - loss: 21.6135\n",
            "Epoch 53/100\n",
            "240/240 [==============================] - 0s 903us/step - loss: 22.2324\n",
            "Epoch 54/100\n",
            "240/240 [==============================] - 0s 822us/step - loss: 21.8110\n",
            "Epoch 55/100\n",
            "240/240 [==============================] - 0s 787us/step - loss: 21.9200\n",
            "Epoch 56/100\n",
            "240/240 [==============================] - 0s 849us/step - loss: 21.8687\n",
            "Epoch 57/100\n",
            "240/240 [==============================] - 0s 836us/step - loss: 21.8222\n",
            "Epoch 58/100\n",
            "240/240 [==============================] - 0s 862us/step - loss: 21.7393\n",
            "Epoch 59/100\n",
            "240/240 [==============================] - 0s 823us/step - loss: 21.7577\n",
            "Epoch 60/100\n",
            "240/240 [==============================] - 0s 832us/step - loss: 21.8032\n",
            "Epoch 61/100\n",
            "240/240 [==============================] - 0s 795us/step - loss: 22.0381\n",
            "Epoch 62/100\n",
            "240/240 [==============================] - 0s 795us/step - loss: 22.0347\n",
            "Epoch 63/100\n",
            "240/240 [==============================] - 0s 818us/step - loss: 22.0449\n",
            "Epoch 64/100\n",
            "240/240 [==============================] - 0s 815us/step - loss: 21.7757\n",
            "Epoch 65/100\n",
            "240/240 [==============================] - 0s 766us/step - loss: 21.9483\n",
            "Epoch 66/100\n",
            "240/240 [==============================] - 0s 779us/step - loss: 21.8270\n",
            "Epoch 67/100\n",
            "240/240 [==============================] - 0s 795us/step - loss: 21.9183\n",
            "Epoch 68/100\n",
            "240/240 [==============================] - 0s 791us/step - loss: 21.6955\n",
            "Epoch 69/100\n",
            "240/240 [==============================] - 0s 800us/step - loss: 21.8124\n",
            "Epoch 70/100\n",
            "240/240 [==============================] - 0s 784us/step - loss: 21.7136\n",
            "Epoch 71/100\n",
            "240/240 [==============================] - 0s 782us/step - loss: 21.6430\n",
            "Epoch 72/100\n",
            "240/240 [==============================] - 0s 777us/step - loss: 21.6972\n",
            "Epoch 73/100\n",
            "240/240 [==============================] - 0s 802us/step - loss: 21.8754\n",
            "Epoch 74/100\n",
            "240/240 [==============================] - 0s 793us/step - loss: 21.6738\n",
            "Epoch 75/100\n",
            "240/240 [==============================] - 0s 834us/step - loss: 21.7534\n",
            "Epoch 76/100\n",
            "240/240 [==============================] - 0s 830us/step - loss: 21.7366\n",
            "Epoch 77/100\n",
            "240/240 [==============================] - 0s 836us/step - loss: 21.9450\n",
            "Epoch 78/100\n",
            "240/240 [==============================] - 0s 839us/step - loss: 21.8361\n",
            "Epoch 79/100\n",
            "240/240 [==============================] - 0s 803us/step - loss: 21.9958\n",
            "Epoch 80/100\n",
            "240/240 [==============================] - 0s 815us/step - loss: 21.7929\n",
            "Epoch 81/100\n",
            "240/240 [==============================] - 0s 843us/step - loss: 21.6786\n",
            "Epoch 82/100\n",
            "240/240 [==============================] - 0s 910us/step - loss: 21.8410\n",
            "Epoch 83/100\n",
            "240/240 [==============================] - 0s 848us/step - loss: 21.7607\n",
            "Epoch 84/100\n",
            "240/240 [==============================] - 0s 825us/step - loss: 21.7424\n",
            "Epoch 85/100\n",
            "240/240 [==============================] - 0s 792us/step - loss: 21.9048\n",
            "Epoch 86/100\n",
            "240/240 [==============================] - 0s 825us/step - loss: 21.5696\n",
            "Epoch 87/100\n",
            "240/240 [==============================] - 0s 838us/step - loss: 21.5675\n",
            "Epoch 88/100\n",
            "240/240 [==============================] - 0s 858us/step - loss: 21.7490\n",
            "Epoch 89/100\n",
            "240/240 [==============================] - 0s 895us/step - loss: 22.1479\n",
            "Epoch 90/100\n",
            "240/240 [==============================] - 0s 794us/step - loss: 21.7922\n",
            "Epoch 91/100\n",
            "240/240 [==============================] - 0s 816us/step - loss: 21.7702\n",
            "Epoch 92/100\n",
            "240/240 [==============================] - 0s 782us/step - loss: 21.9088\n",
            "Epoch 93/100\n",
            "240/240 [==============================] - 0s 816us/step - loss: 21.8436\n",
            "Epoch 94/100\n",
            "240/240 [==============================] - 0s 813us/step - loss: 21.7359\n",
            "Epoch 95/100\n",
            "240/240 [==============================] - 0s 780us/step - loss: 22.0251\n",
            "Epoch 96/100\n",
            "240/240 [==============================] - 0s 804us/step - loss: 21.7862\n",
            "Epoch 97/100\n",
            "240/240 [==============================] - 0s 776us/step - loss: 22.1276\n",
            "Epoch 98/100\n",
            "240/240 [==============================] - 0s 803us/step - loss: 21.5826\n",
            "Epoch 99/100\n",
            "240/240 [==============================] - 0s 795us/step - loss: 21.7809\n",
            "Epoch 100/100\n",
            "240/240 [==============================] - 0s 784us/step - loss: 21.6228\n"
          ],
          "name": "stdout"
        },
        {
          "output_type": "execute_result",
          "data": {
            "text/plain": [
              "<tensorflow.python.keras.callbacks.History at 0x7fbf42987b38>"
            ]
          },
          "metadata": {
            "tags": []
          },
          "execution_count": 16
        }
      ]
    },
    {
      "cell_type": "markdown",
      "metadata": {
        "id": "eiuNrlrJBR2T",
        "colab_type": "text"
      },
      "source": [
        "# Validate ANN"
      ]
    },
    {
      "cell_type": "code",
      "metadata": {
        "id": "uzDl2D4nU8Tn",
        "colab_type": "code",
        "colab": {
          "base_uri": "https://localhost:8080/",
          "height": 136
        },
        "outputId": "54b48f32-9538-44dc-d31d-c4bbefe74735"
      },
      "source": [
        "y_predict = ann.predict(validatedf_indep)\n",
        "vald_array = validatedf_dep.to_numpy()\n",
        "print(np.concatenate((y_predict.reshape(len(y_predict),1),vald_array.reshape(len(vald_array),1)),1))"
      ],
      "execution_count": 17,
      "outputs": [
        {
          "output_type": "stream",
          "text": [
            "[[447.4642334  439.49      ]\n",
            " [478.01422119 484.12      ]\n",
            " [444.16122437 443.44      ]\n",
            " ...\n",
            " [444.37612915 451.52      ]\n",
            " [435.16171265 435.51      ]\n",
            " [431.46878052 434.68      ]]\n"
          ],
          "name": "stdout"
        }
      ]
    }
  ]
}