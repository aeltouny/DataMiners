{
  "nbformat": 4,
  "nbformat_minor": 0,
  "metadata": {
    "colab": {
      "name": "Create-ANN.ipynb",
      "provenance": [],
      "collapsed_sections": [],
      "authorship_tag": "ABX9TyOFzv3d9fZ7WlzCRgNAk59y",
      "include_colab_link": true
    },
    "kernelspec": {
      "name": "python3",
      "display_name": "Python 3"
    }
  },
  "cells": [
    {
      "cell_type": "markdown",
      "metadata": {
        "id": "view-in-github",
        "colab_type": "text"
      },
      "source": [
        "<a href=\"https://colab.research.google.com/github/aeltouny/DataMiners/blob/master/Create_ANN.ipynb\" target=\"_parent\"><img src=\"https://colab.research.google.com/assets/colab-badge.svg\" alt=\"Open In Colab\"/></a>"
      ]
    },
    {
      "cell_type": "markdown",
      "metadata": {
        "id": "mCvxBqxVcWFQ",
        "colab_type": "text"
      },
      "source": [
        "Read & Explore Dataset"
      ]
    },
    {
      "cell_type": "markdown",
      "metadata": {
        "id": "OJvM3k6DeeK2",
        "colab_type": "text"
      },
      "source": [
        "Read Dataset"
      ]
    },
    {
      "cell_type": "code",
      "metadata": {
        "id": "0sS6rQnnciYI",
        "colab_type": "code",
        "colab": {}
      },
      "source": [
        "import pandas as pd \n",
        "workDF = pd.read_csv(\"Churn_Modelling.csv\")"
      ],
      "execution_count": 2,
      "outputs": []
    },
    {
      "cell_type": "markdown",
      "metadata": {
        "id": "KwgvRpI8ejX-",
        "colab_type": "text"
      },
      "source": [
        "Explore Dataset"
      ]
    },
    {
      "cell_type": "code",
      "metadata": {
        "id": "puH5IrRKeHX_",
        "colab_type": "code",
        "colab": {
          "base_uri": "https://localhost:8080/",
          "height": 173
        },
        "outputId": "0db73cce-a0bb-42fd-95f3-e3515bce56ef"
      },
      "source": [
        "print(workDF.head())"
      ],
      "execution_count": 3,
      "outputs": [
        {
          "output_type": "stream",
          "text": [
            "   RowNumber  CustomerId   Surname  ...  IsActiveMember EstimatedSalary Exited\n",
            "0          1    15634602  Hargrave  ...               1       101348.88      1\n",
            "1          2    15647311      Hill  ...               1       112542.58      0\n",
            "2          3    15619304      Onio  ...               0       113931.57      1\n",
            "3          4    15701354      Boni  ...               0        93826.63      0\n",
            "4          5    15737888  Mitchell  ...               1        79084.10      0\n",
            "\n",
            "[5 rows x 14 columns]\n"
          ],
          "name": "stdout"
        }
      ]
    },
    {
      "cell_type": "markdown",
      "metadata": {
        "id": "LfNKr8S2e0D_",
        "colab_type": "text"
      },
      "source": [
        "Explore Column Names"
      ]
    },
    {
      "cell_type": "code",
      "metadata": {
        "id": "3OLwU5zleQVT",
        "colab_type": "code",
        "colab": {
          "base_uri": "https://localhost:8080/",
          "height": 85
        },
        "outputId": "84b73f72-54c6-41bb-d6b5-71d58b0e5ff0"
      },
      "source": [
        "print(workDF.columns)"
      ],
      "execution_count": 4,
      "outputs": [
        {
          "output_type": "stream",
          "text": [
            "Index(['RowNumber', 'CustomerId', 'Surname', 'CreditScore', 'Geography',\n",
            "       'Gender', 'Age', 'Tenure', 'Balance', 'NumOfProducts', 'HasCrCard',\n",
            "       'IsActiveMember', 'EstimatedSalary', 'Exited'],\n",
            "      dtype='object')\n"
          ],
          "name": "stdout"
        }
      ]
    },
    {
      "cell_type": "markdown",
      "metadata": {
        "id": "az4W20V2eXz1",
        "colab_type": "text"
      },
      "source": [
        "Dataset prearation"
      ]
    },
    {
      "cell_type": "markdown",
      "metadata": {
        "id": "qIr5t39se6q_",
        "colab_type": "text"
      },
      "source": [
        "Remove Unnecessary Columns\n"
      ]
    },
    {
      "cell_type": "code",
      "metadata": {
        "id": "_RUY0HyYfAeI",
        "colab_type": "code",
        "colab": {}
      },
      "source": [
        "workDF = workDF.iloc[:,3:]"
      ],
      "execution_count": 5,
      "outputs": []
    },
    {
      "cell_type": "markdown",
      "metadata": {
        "id": "tHkWEjFKfZUZ",
        "colab_type": "text"
      },
      "source": [
        "Explore modified Dataset"
      ]
    },
    {
      "cell_type": "code",
      "metadata": {
        "id": "KE2_0PiVfY0n",
        "colab_type": "code",
        "colab": {
          "base_uri": "https://localhost:8080/",
          "height": 173
        },
        "outputId": "dba2c438-f5f1-4981-a345-0b3ee88df2b9"
      },
      "source": [
        "print(workDF.head())"
      ],
      "execution_count": 6,
      "outputs": [
        {
          "output_type": "stream",
          "text": [
            "   CreditScore Geography  Gender  ...  IsActiveMember  EstimatedSalary  Exited\n",
            "0          619    France  Female  ...               1        101348.88       1\n",
            "1          608     Spain  Female  ...               1        112542.58       0\n",
            "2          502    France  Female  ...               0        113931.57       1\n",
            "3          699    France  Female  ...               0         93826.63       0\n",
            "4          850     Spain  Female  ...               1         79084.10       0\n",
            "\n",
            "[5 rows x 11 columns]\n"
          ],
          "name": "stdout"
        }
      ]
    },
    {
      "cell_type": "markdown",
      "metadata": {
        "id": "Fa2cR1m_fqRV",
        "colab_type": "text"
      },
      "source": [
        "Check for missing data in the numerical fields "
      ]
    },
    {
      "cell_type": "code",
      "metadata": {
        "id": "XByowZE3f537",
        "colab_type": "code",
        "colab": {}
      },
      "source": [
        "import numpy as np\n",
        "from sklearn.impute import SimpleImputer\n",
        "chcol_index = [0,3,4,5,6,7,8,9]\n",
        "imputer = SimpleImputer(missing_values=np.nan , strategy=\"mean\")\n",
        "imputer.fit(workDF.iloc[:, chcol_index])\n",
        "temp_array =imputer.transform(workDF.iloc[:, chcol_index])\n",
        "x=0\n",
        "for i in chcol_index :\n",
        "    workDF.iloc[:,i]= temp_array[:,x]\n",
        "    x+=1"
      ],
      "execution_count": 8,
      "outputs": []
    },
    {
      "cell_type": "markdown",
      "metadata": {
        "id": "iTCjQoIrgQjh",
        "colab_type": "text"
      },
      "source": [
        "Explore Modified Dataset"
      ]
    },
    {
      "cell_type": "code",
      "metadata": {
        "id": "JtmlkdYFgT6f",
        "colab_type": "code",
        "colab": {
          "base_uri": "https://localhost:8080/",
          "height": 173
        },
        "outputId": "60107438-6331-44a9-b199-cf00ce2fedb6"
      },
      "source": [
        "print(workDF.head())"
      ],
      "execution_count": 9,
      "outputs": [
        {
          "output_type": "stream",
          "text": [
            "   CreditScore Geography  Gender  ...  IsActiveMember  EstimatedSalary  Exited\n",
            "0        619.0    France  Female  ...             1.0        101348.88       1\n",
            "1        608.0     Spain  Female  ...             1.0        112542.58       0\n",
            "2        502.0    France  Female  ...             0.0        113931.57       1\n",
            "3        699.0    France  Female  ...             0.0         93826.63       0\n",
            "4        850.0     Spain  Female  ...             1.0         79084.10       0\n",
            "\n",
            "[5 rows x 11 columns]\n"
          ],
          "name": "stdout"
        }
      ]
    }
  ]
}