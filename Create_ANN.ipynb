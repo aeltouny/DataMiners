{
  "nbformat": 4,
  "nbformat_minor": 0,
  "metadata": {
    "colab": {
      "name": "Create-ANN.ipynb",
      "provenance": [],
      "collapsed_sections": [],
      "toc_visible": true,
      "authorship_tag": "ABX9TyPo4vKxEyaNk60fXiNxSuVq",
      "include_colab_link": true
    },
    "kernelspec": {
      "name": "python3",
      "display_name": "Python 3"
    }
  },
  "cells": [
    {
      "cell_type": "markdown",
      "metadata": {
        "id": "view-in-github",
        "colab_type": "text"
      },
      "source": [
        "<a href=\"https://colab.research.google.com/github/aeltouny/DataMiners/blob/master/Create_ANN.ipynb\" target=\"_parent\"><img src=\"https://colab.research.google.com/assets/colab-badge.svg\" alt=\"Open In Colab\"/></a>"
      ]
    },
    {
      "cell_type": "markdown",
      "metadata": {
        "id": "mCvxBqxVcWFQ",
        "colab_type": "text"
      },
      "source": [
        "# Data Preprocessing"
      ]
    },
    {
      "cell_type": "markdown",
      "metadata": {
        "id": "OJvM3k6DeeK2",
        "colab_type": "text"
      },
      "source": [
        "## Read Dataset"
      ]
    },
    {
      "cell_type": "code",
      "metadata": {
        "id": "0sS6rQnnciYI",
        "colab_type": "code",
        "colab": {}
      },
      "source": [
        "import pandas as pd \n",
        "workDF = pd.read_csv(\"Churn_Modelling.csv\")"
      ],
      "execution_count": 2,
      "outputs": []
    },
    {
      "cell_type": "markdown",
      "metadata": {
        "id": "KwgvRpI8ejX-",
        "colab_type": "text"
      },
      "source": [
        "Explore Dataset"
      ]
    },
    {
      "cell_type": "code",
      "metadata": {
        "id": "puH5IrRKeHX_",
        "colab_type": "code",
        "colab": {
          "base_uri": "https://localhost:8080/",
          "height": 173
        },
        "outputId": "399834ad-0893-44a7-d50e-c288cb3d05fe"
      },
      "source": [
        "print(workDF.head())"
      ],
      "execution_count": 3,
      "outputs": [
        {
          "output_type": "stream",
          "text": [
            "   RowNumber  CustomerId   Surname  ...  IsActiveMember EstimatedSalary Exited\n",
            "0          1    15634602  Hargrave  ...               1       101348.88      1\n",
            "1          2    15647311      Hill  ...               1       112542.58      0\n",
            "2          3    15619304      Onio  ...               0       113931.57      1\n",
            "3          4    15701354      Boni  ...               0        93826.63      0\n",
            "4          5    15737888  Mitchell  ...               1        79084.10      0\n",
            "\n",
            "[5 rows x 14 columns]\n"
          ],
          "name": "stdout"
        }
      ]
    },
    {
      "cell_type": "markdown",
      "metadata": {
        "id": "LfNKr8S2e0D_",
        "colab_type": "text"
      },
      "source": [
        "Explore Column Names"
      ]
    },
    {
      "cell_type": "code",
      "metadata": {
        "id": "3OLwU5zleQVT",
        "colab_type": "code",
        "colab": {
          "base_uri": "https://localhost:8080/",
          "height": 85
        },
        "outputId": "d3627750-cdb7-44d2-9239-e3df7c258511"
      },
      "source": [
        "print(workDF.columns)"
      ],
      "execution_count": 4,
      "outputs": [
        {
          "output_type": "stream",
          "text": [
            "Index(['RowNumber', 'CustomerId', 'Surname', 'CreditScore', 'Geography',\n",
            "       'Gender', 'Age', 'Tenure', 'Balance', 'NumOfProducts', 'HasCrCard',\n",
            "       'IsActiveMember', 'EstimatedSalary', 'Exited'],\n",
            "      dtype='object')\n"
          ],
          "name": "stdout"
        }
      ]
    },
    {
      "cell_type": "markdown",
      "metadata": {
        "id": "az4W20V2eXz1",
        "colab_type": "text"
      },
      "source": [
        "Dataset prearation"
      ]
    },
    {
      "cell_type": "markdown",
      "metadata": {
        "id": "qIr5t39se6q_",
        "colab_type": "text"
      },
      "source": [
        "## Remove Unnecessary Columns\n",
        "\n",
        "\n"
      ]
    },
    {
      "cell_type": "code",
      "metadata": {
        "id": "_RUY0HyYfAeI",
        "colab_type": "code",
        "colab": {}
      },
      "source": [
        "workDF = workDF.iloc[:,3:]"
      ],
      "execution_count": 5,
      "outputs": []
    },
    {
      "cell_type": "markdown",
      "metadata": {
        "id": "tHkWEjFKfZUZ",
        "colab_type": "text"
      },
      "source": [
        "Explore modified Dataset"
      ]
    },
    {
      "cell_type": "code",
      "metadata": {
        "id": "KE2_0PiVfY0n",
        "colab_type": "code",
        "colab": {
          "base_uri": "https://localhost:8080/",
          "height": 173
        },
        "outputId": "1d7aa6e4-5dcd-462f-a1d5-e0b1ff1d5775"
      },
      "source": [
        "print(workDF.head())"
      ],
      "execution_count": 6,
      "outputs": [
        {
          "output_type": "stream",
          "text": [
            "   CreditScore Geography  Gender  ...  IsActiveMember  EstimatedSalary  Exited\n",
            "0          619    France  Female  ...               1        101348.88       1\n",
            "1          608     Spain  Female  ...               1        112542.58       0\n",
            "2          502    France  Female  ...               0        113931.57       1\n",
            "3          699    France  Female  ...               0         93826.63       0\n",
            "4          850     Spain  Female  ...               1         79084.10       0\n",
            "\n",
            "[5 rows x 11 columns]\n"
          ],
          "name": "stdout"
        }
      ]
    },
    {
      "cell_type": "markdown",
      "metadata": {
        "id": "Fa2cR1m_fqRV",
        "colab_type": "text"
      },
      "source": [
        "## Check for missing data in the numerical fields "
      ]
    },
    {
      "cell_type": "code",
      "metadata": {
        "id": "XByowZE3f537",
        "colab_type": "code",
        "colab": {}
      },
      "source": [
        "import numpy as np\n",
        "from sklearn.impute import SimpleImputer\n",
        "chcol_index = [0,3,4,5,6,7,8,9]\n",
        "imputer = SimpleImputer(missing_values=np.nan , strategy=\"mean\")\n",
        "imputer.fit(workDF.iloc[:, chcol_index])\n",
        "temp_array =imputer.transform(workDF.iloc[:, chcol_index])\n",
        "x=0\n",
        "for i in chcol_index :\n",
        "    workDF.iloc[:,i]= temp_array[:,x]\n",
        "    x+=1"
      ],
      "execution_count": 7,
      "outputs": []
    },
    {
      "cell_type": "markdown",
      "metadata": {
        "id": "iTCjQoIrgQjh",
        "colab_type": "text"
      },
      "source": [
        "Explore Modified Dataset"
      ]
    },
    {
      "cell_type": "code",
      "metadata": {
        "id": "JtmlkdYFgT6f",
        "colab_type": "code",
        "colab": {
          "base_uri": "https://localhost:8080/",
          "height": 173
        },
        "outputId": "4dafae76-61f5-4a59-eb9d-fdc15f2547b4"
      },
      "source": [
        "print(workDF.head())"
      ],
      "execution_count": 8,
      "outputs": [
        {
          "output_type": "stream",
          "text": [
            "   CreditScore Geography  Gender  ...  IsActiveMember  EstimatedSalary  Exited\n",
            "0        619.0    France  Female  ...             1.0        101348.88       1\n",
            "1        608.0     Spain  Female  ...             1.0        112542.58       0\n",
            "2        502.0    France  Female  ...             0.0        113931.57       1\n",
            "3        699.0    France  Female  ...             0.0         93826.63       0\n",
            "4        850.0     Spain  Female  ...             1.0         79084.10       0\n",
            "\n",
            "[5 rows x 11 columns]\n"
          ],
          "name": "stdout"
        }
      ]
    },
    {
      "cell_type": "markdown",
      "metadata": {
        "id": "55_FLaGRlWuW",
        "colab_type": "text"
      },
      "source": [
        "## Encoding Categorical Data"
      ]
    },
    {
      "cell_type": "markdown",
      "metadata": {
        "id": "Hy-dy7e0htZN",
        "colab_type": "text"
      },
      "source": [
        "### Encoding Categorical Data - Gender"
      ]
    },
    {
      "cell_type": "code",
      "metadata": {
        "id": "vRE1G1qIhxdS",
        "colab_type": "code",
        "colab": {}
      },
      "source": [
        "from sklearn.preprocessing import LabelEncoder\n",
        "lbencoder = LabelEncoder()\n",
        "temp_array = lbencoder.fit_transform(workDF.iloc[:,2])\n",
        "workDF.iloc[:,2]= temp_array"
      ],
      "execution_count": 9,
      "outputs": []
    },
    {
      "cell_type": "markdown",
      "metadata": {
        "id": "ucOc_Dy-iKkp",
        "colab_type": "text"
      },
      "source": [
        "Explore Modified Dataset"
      ]
    },
    {
      "cell_type": "code",
      "metadata": {
        "id": "95pFLaMqiOng",
        "colab_type": "code",
        "colab": {
          "base_uri": "https://localhost:8080/",
          "height": 173
        },
        "outputId": "6d8461d5-3a8d-4de0-c1df-4c7232b5dc31"
      },
      "source": [
        "print(workDF.head())"
      ],
      "execution_count": 10,
      "outputs": [
        {
          "output_type": "stream",
          "text": [
            "   CreditScore Geography  Gender  ...  IsActiveMember  EstimatedSalary  Exited\n",
            "0        619.0    France       0  ...             1.0        101348.88       1\n",
            "1        608.0     Spain       0  ...             1.0        112542.58       0\n",
            "2        502.0    France       0  ...             0.0        113931.57       1\n",
            "3        699.0    France       0  ...             0.0         93826.63       0\n",
            "4        850.0     Spain       0  ...             1.0         79084.10       0\n",
            "\n",
            "[5 rows x 11 columns]\n"
          ],
          "name": "stdout"
        }
      ]
    },
    {
      "cell_type": "markdown",
      "metadata": {
        "id": "g_tVJsIiiWZ_",
        "colab_type": "text"
      },
      "source": [
        "### Encoding Categorical Data - Geography"
      ]
    },
    {
      "cell_type": "code",
      "metadata": {
        "id": "MSGKH6zVibx1",
        "colab_type": "code",
        "colab": {}
      },
      "source": [
        "temp_set = set()  # create set to hold unique values\n",
        "unique_Findings = []\n",
        "for i in workDF.index :\n",
        "    temp_set.add(workDF.iloc[i,1])\n",
        "unique_Findings=list(temp_set)\n",
        "index = 0\n",
        "#Create list filled with zeros with the length of the panda frames\n",
        "Zero_list=[0] * len(workDF)\n",
        "for x in unique_Findings :\n",
        "    workDF.insert(index,unique_Findings[index],Zero_list )\n",
        "    #workDF[unique_Findings[index]]=Zero_list\n",
        "    index=index+1\n",
        "# Add in the relative position\n",
        "for x in workDF.index :\n",
        "    Findings_temp =workDF.iloc[x,4]\n",
        "    workDF.loc[x,Findings_temp] = 1\n",
        "#workDF.drop(workDF.columns[4], axis=1, inplace=True)"
      ],
      "execution_count": 11,
      "outputs": []
    },
    {
      "cell_type": "markdown",
      "metadata": {
        "id": "4seGThumiq1V",
        "colab_type": "text"
      },
      "source": [
        "Explore Modified Dataset"
      ]
    },
    {
      "cell_type": "code",
      "metadata": {
        "id": "2HQYssREittX",
        "colab_type": "code",
        "colab": {
          "base_uri": "https://localhost:8080/",
          "height": 153
        },
        "outputId": "57a06ed4-9de5-4872-91c2-e45c0048c037"
      },
      "source": [
        "print(workDF.head())"
      ],
      "execution_count": 12,
      "outputs": [
        {
          "output_type": "stream",
          "text": [
            "   Spain  France  Germany  ...  IsActiveMember EstimatedSalary  Exited\n",
            "0      0       1        0  ...             1.0       101348.88       1\n",
            "1      1       0        0  ...             1.0       112542.58       0\n",
            "2      0       1        0  ...             0.0       113931.57       1\n",
            "3      0       1        0  ...             0.0        93826.63       0\n",
            "4      1       0        0  ...             1.0        79084.10       0\n",
            "\n",
            "[5 rows x 14 columns]\n"
          ],
          "name": "stdout"
        }
      ]
    },
    {
      "cell_type": "markdown",
      "metadata": {
        "id": "seXyCVUoi05q",
        "colab_type": "text"
      },
      "source": [
        "Drop Transformed Column"
      ]
    },
    {
      "cell_type": "code",
      "metadata": {
        "id": "KfUJKHQbi6OX",
        "colab_type": "code",
        "colab": {}
      },
      "source": [
        "workDF.drop(workDF.columns[4], axis=1, inplace=True)"
      ],
      "execution_count": 13,
      "outputs": []
    },
    {
      "cell_type": "markdown",
      "metadata": {
        "id": "4mUPGbEXjDHF",
        "colab_type": "text"
      },
      "source": [
        "Explore Modified Dataset"
      ]
    },
    {
      "cell_type": "code",
      "metadata": {
        "id": "ZGFHSOzWjEU2",
        "colab_type": "code",
        "colab": {
          "base_uri": "https://localhost:8080/",
          "height": 153
        },
        "outputId": "b6255c27-e456-424f-d69d-0a960a4cbf7e"
      },
      "source": [
        "print(workDF.head())"
      ],
      "execution_count": 14,
      "outputs": [
        {
          "output_type": "stream",
          "text": [
            "   Spain  France  Germany  ...  IsActiveMember  EstimatedSalary  Exited\n",
            "0      0       1        0  ...             1.0        101348.88       1\n",
            "1      1       0        0  ...             1.0        112542.58       0\n",
            "2      0       1        0  ...             0.0        113931.57       1\n",
            "3      0       1        0  ...             0.0         93826.63       0\n",
            "4      1       0        0  ...             1.0         79084.10       0\n",
            "\n",
            "[5 rows x 13 columns]\n"
          ],
          "name": "stdout"
        }
      ]
    },
    {
      "cell_type": "markdown",
      "metadata": {
        "id": "7JD3qevzjiVk",
        "colab_type": "text"
      },
      "source": [
        "# Split Data into Train and Validate\n"
      ]
    },
    {
      "cell_type": "code",
      "metadata": {
        "id": "oRL55f5jMAbt",
        "colab_type": "code",
        "colab": {
          "base_uri": "https://localhost:8080/",
          "height": 51
        },
        "outputId": "b275564d-9de7-411b-b281-19ff10dbcb23"
      },
      "source": [
        "from sklearn.model_selection import train_test_split\n",
        "from random import sample\n",
        "traindf , validatedf = train_test_split(workDF, test_size=.2 , stratify= workDF[\"Exited\"])\n",
        "print(\"Train dataset precentage\" , len(traindf)/len(workDF))\n",
        "print(\"Validate dataset precentage\" , len(validatedf)/len(workDF))"
      ],
      "execution_count": 15,
      "outputs": [
        {
          "output_type": "stream",
          "text": [
            "Train dataset precentage 0.8\n",
            "Validate dataset precentage 0.2\n"
          ],
          "name": "stdout"
        }
      ]
    },
    {
      "cell_type": "markdown",
      "metadata": {
        "id": "xmkbMWsqNG11",
        "colab_type": "text"
      },
      "source": [
        "make sure that positive cases and negative cases are equale in the train dataset"
      ]
    },
    {
      "cell_type": "code",
      "metadata": {
        "id": "_OE5wksZNOO3",
        "colab_type": "code",
        "colab": {
          "base_uri": "https://localhost:8080/",
          "height": 51
        },
        "outputId": "4f0376d4-910e-48e4-d096-1e98ca45d55e"
      },
      "source": [
        "print(\"Number of positive cases in Train Dataset\", len(traindf[traindf[\"Exited\"]==1]))\n",
        "# Take random samples from negative cases to have equal number of positive and negatives\n",
        "p_inds = traindf[traindf[\"Exited\"]==1].index.tolist()\n",
        "np_inds=  traindf[traindf[\"Exited\"]==0].index.tolist()\n",
        "np_sample = sample(np_inds,len(p_inds))\n",
        "train_df = traindf.loc[p_inds + np_sample]\n",
        "print(\"Percentage of positive cases in Train Dataset\" , len(train_df[train_df[\"Exited\"]==1])/len(train_df))"
      ],
      "execution_count": 16,
      "outputs": [
        {
          "output_type": "stream",
          "text": [
            "Number of positive cases in Train Dataset 1630\n",
            "Percentage of positive cases in Train Dataset 0.5\n"
          ],
          "name": "stdout"
        }
      ]
    },
    {
      "cell_type": "markdown",
      "metadata": {
        "id": "RWvsabLrOePM",
        "colab_type": "text"
      },
      "source": [
        "# Normalize Train Dataset"
      ]
    },
    {
      "cell_type": "markdown",
      "metadata": {
        "id": "eaVUmxlWNv8h",
        "colab_type": "text"
      },
      "source": [
        "## Split train and validate into dependant and independant sets"
      ]
    },
    {
      "cell_type": "code",
      "metadata": {
        "id": "kaYwvxQVN3J5",
        "colab_type": "code",
        "colab": {}
      },
      "source": [
        "traindf_indep = traindf.iloc[:,:-1]\n",
        "traindf_dep= traindf.iloc[:,-1]\n",
        "validatedf_indep = validatedf.iloc[:,:-1]\n",
        "validatedf_dep= validatedf.iloc[:,-1]\n"
      ],
      "execution_count": 17,
      "outputs": []
    },
    {
      "cell_type": "markdown",
      "metadata": {
        "id": "Ojc-CNyDOFby",
        "colab_type": "text"
      },
      "source": [
        "## Normalize independant variables in Train & Validate dataset"
      ]
    },
    {
      "cell_type": "code",
      "metadata": {
        "id": "Vfvk_r67OTdM",
        "colab_type": "code",
        "colab": {}
      },
      "source": [
        "from sklearn.preprocessing import StandardScaler\n",
        "ssc= StandardScaler()\n",
        "traindf_indep.iloc[:,:]= ssc.fit_transform(traindf_indep)\n",
        "validatedf_indep.iloc[:,:] = ssc.transform(validatedf_indep)"
      ],
      "execution_count": 18,
      "outputs": []
    },
    {
      "cell_type": "markdown",
      "metadata": {
        "id": "XUgec-SuPBY7",
        "colab_type": "text"
      },
      "source": [
        "# Create The Model"
      ]
    },
    {
      "cell_type": "code",
      "metadata": {
        "id": "1mpE3dGMPHkK",
        "colab_type": "code",
        "colab": {}
      },
      "source": [
        "import tensorflow as tf\n",
        "ann = tf.keras.models.Sequential()"
      ],
      "execution_count": 19,
      "outputs": []
    },
    {
      "cell_type": "markdown",
      "metadata": {
        "id": "ln_Rug-xPdWZ",
        "colab_type": "text"
      },
      "source": [
        "## Add first hidden layer - unites : number of neornes in a hidden layer -- activation function rectivir"
      ]
    },
    {
      "cell_type": "code",
      "metadata": {
        "id": "p8auYK11PmTq",
        "colab_type": "code",
        "colab": {}
      },
      "source": [
        "ann.add(tf.keras.layers.Dense(units= 6 , activation= \"relu\"))"
      ],
      "execution_count": 20,
      "outputs": []
    },
    {
      "cell_type": "markdown",
      "metadata": {
        "id": "hyzeVzSIPycL",
        "colab_type": "text"
      },
      "source": [
        "## Add second layer with the same parameters -- All hidden layers activations functions are rectivir"
      ]
    },
    {
      "cell_type": "code",
      "metadata": {
        "id": "UvuY-y0TRaMc",
        "colab_type": "code",
        "colab": {}
      },
      "source": [
        "ann.add(tf.keras.layers.Dense(units= 6 , activation= \"relu\"))"
      ],
      "execution_count": 21,
      "outputs": []
    },
    {
      "cell_type": "markdown",
      "metadata": {
        "id": "asrCE70BRhjl",
        "colab_type": "text"
      },
      "source": [
        "## Add output layer -- activation function in the output layer shold be sigmoid for binary outcome, for categorical outcome you need to use softmax -- Number of unites equal number of output"
      ]
    },
    {
      "cell_type": "code",
      "metadata": {
        "id": "Wdr35Ek3RqN_",
        "colab_type": "code",
        "colab": {}
      },
      "source": [
        "ann.add(tf.keras.layers.Dense(units=1, activation=\"sigmoid\"))"
      ],
      "execution_count": 22,
      "outputs": []
    },
    {
      "cell_type": "markdown",
      "metadata": {
        "id": "tJAQW3mBTjHo",
        "colab_type": "text"
      },
      "source": [
        "# Compile the ANN"
      ]
    },
    {
      "cell_type": "markdown",
      "metadata": {
        "id": "m3En2uYwUBPV",
        "colab_type": "text"
      },
      "source": [
        "adam optimizer is using stochastic gradient descient to adjust the weights.\n"
      ]
    },
    {
      "cell_type": "markdown",
      "metadata": {
        "id": "9NZbTGT5UNHx",
        "colab_type": "text"
      },
      "source": [
        "loss for binary must be binary_crossenttropy for categorical must be \"categorical_crossentropy"
      ]
    },
    {
      "cell_type": "markdown",
      "metadata": {
        "id": "TB8ioN2hUV2o",
        "colab_type": "text"
      },
      "source": [
        "Mertics the metrics used for testing the ann accuracy"
      ]
    },
    {
      "cell_type": "code",
      "metadata": {
        "id": "1t8H7GTET7EP",
        "colab_type": "code",
        "colab": {}
      },
      "source": [
        "ann.compile(optimizer='adam', loss = \"binary_crossentropy\", metrics=[\"accuracy\"])"
      ],
      "execution_count": 23,
      "outputs": []
    },
    {
      "cell_type": "markdown",
      "metadata": {
        "id": "OBf6Q_Ss5Sfg",
        "colab_type": "text"
      },
      "source": [
        "# Train The Model"
      ]
    },
    {
      "cell_type": "code",
      "metadata": {
        "id": "JAz6sYbh6KRO",
        "colab_type": "code",
        "colab": {
          "base_uri": "https://localhost:8080/",
          "height": 1000
        },
        "outputId": "d13af26b-f2dd-4833-f6db-d41cb4d4f8b2"
      },
      "source": [
        "ann.fit(traindf_indep, traindf_dep, batch_size = 32 , epochs=100)"
      ],
      "execution_count": 24,
      "outputs": [
        {
          "output_type": "stream",
          "text": [
            "Epoch 1/100\n",
            "WARNING:tensorflow:Layer dense is casting an input tensor from dtype float64 to the layer's dtype of float32, which is new behavior in TensorFlow 2.  The layer has dtype float32 because its dtype defaults to floatx.\n",
            "\n",
            "If you intended to run this layer in float32, you can safely ignore this warning. If in doubt, this warning is likely only an issue if you are porting a TensorFlow 1.X model to TensorFlow 2.\n",
            "\n",
            "To change all layers to have dtype float64 by default, call `tf.keras.backend.set_floatx('float64')`. To change just this layer, pass dtype='float64' to the layer constructor. If you are the author of this layer, you can disable autocasting by passing autocast=False to the base Layer constructor.\n",
            "\n",
            "250/250 [==============================] - 0s 971us/step - loss: 0.6643 - accuracy: 0.6332\n",
            "Epoch 2/100\n",
            "250/250 [==============================] - 0s 1ms/step - loss: 0.5062 - accuracy: 0.7962\n",
            "Epoch 3/100\n",
            "250/250 [==============================] - 0s 1ms/step - loss: 0.4681 - accuracy: 0.7961\n",
            "Epoch 4/100\n",
            "250/250 [==============================] - 0s 1ms/step - loss: 0.4446 - accuracy: 0.8019\n",
            "Epoch 5/100\n",
            "250/250 [==============================] - 0s 1ms/step - loss: 0.4277 - accuracy: 0.8116\n",
            "Epoch 6/100\n",
            "250/250 [==============================] - 0s 1ms/step - loss: 0.4178 - accuracy: 0.8188\n",
            "Epoch 7/100\n",
            "250/250 [==============================] - 0s 1ms/step - loss: 0.4111 - accuracy: 0.8225\n",
            "Epoch 8/100\n",
            "250/250 [==============================] - 0s 1ms/step - loss: 0.4065 - accuracy: 0.8234\n",
            "Epoch 9/100\n",
            "250/250 [==============================] - 0s 946us/step - loss: 0.4030 - accuracy: 0.8266\n",
            "Epoch 10/100\n",
            "250/250 [==============================] - 0s 996us/step - loss: 0.3998 - accuracy: 0.8275\n",
            "Epoch 11/100\n",
            "250/250 [==============================] - 0s 1ms/step - loss: 0.3960 - accuracy: 0.8304\n",
            "Epoch 12/100\n",
            "250/250 [==============================] - 0s 1ms/step - loss: 0.3925 - accuracy: 0.8317\n",
            "Epoch 13/100\n",
            "250/250 [==============================] - 0s 927us/step - loss: 0.3887 - accuracy: 0.8316\n",
            "Epoch 14/100\n",
            "250/250 [==============================] - 0s 943us/step - loss: 0.3841 - accuracy: 0.8336\n",
            "Epoch 15/100\n",
            "250/250 [==============================] - 0s 1ms/step - loss: 0.3798 - accuracy: 0.8353\n",
            "Epoch 16/100\n",
            "250/250 [==============================] - 0s 1ms/step - loss: 0.3751 - accuracy: 0.8347\n",
            "Epoch 17/100\n",
            "250/250 [==============================] - 0s 937us/step - loss: 0.3718 - accuracy: 0.8375\n",
            "Epoch 18/100\n",
            "250/250 [==============================] - 0s 983us/step - loss: 0.3678 - accuracy: 0.8456\n",
            "Epoch 19/100\n",
            "250/250 [==============================] - 0s 1ms/step - loss: 0.3638 - accuracy: 0.8499\n",
            "Epoch 20/100\n",
            "250/250 [==============================] - 0s 988us/step - loss: 0.3611 - accuracy: 0.8514\n",
            "Epoch 21/100\n",
            "250/250 [==============================] - 0s 932us/step - loss: 0.3584 - accuracy: 0.8519\n",
            "Epoch 22/100\n",
            "250/250 [==============================] - 0s 982us/step - loss: 0.3557 - accuracy: 0.8545\n",
            "Epoch 23/100\n",
            "250/250 [==============================] - 0s 1ms/step - loss: 0.3532 - accuracy: 0.8555\n",
            "Epoch 24/100\n",
            "250/250 [==============================] - 0s 1ms/step - loss: 0.3511 - accuracy: 0.8565\n",
            "Epoch 25/100\n",
            "250/250 [==============================] - 0s 918us/step - loss: 0.3496 - accuracy: 0.8576\n",
            "Epoch 26/100\n",
            "250/250 [==============================] - 0s 1ms/step - loss: 0.3473 - accuracy: 0.8600\n",
            "Epoch 27/100\n",
            "250/250 [==============================] - 0s 1ms/step - loss: 0.3464 - accuracy: 0.8601\n",
            "Epoch 28/100\n",
            "250/250 [==============================] - 0s 965us/step - loss: 0.3452 - accuracy: 0.8594\n",
            "Epoch 29/100\n",
            "250/250 [==============================] - 0s 1ms/step - loss: 0.3442 - accuracy: 0.8594\n",
            "Epoch 30/100\n",
            "250/250 [==============================] - 0s 917us/step - loss: 0.3432 - accuracy: 0.8608\n",
            "Epoch 31/100\n",
            "250/250 [==============================] - 0s 1ms/step - loss: 0.3428 - accuracy: 0.8601\n",
            "Epoch 32/100\n",
            "250/250 [==============================] - 0s 943us/step - loss: 0.3421 - accuracy: 0.8609\n",
            "Epoch 33/100\n",
            "250/250 [==============================] - 0s 950us/step - loss: 0.3412 - accuracy: 0.8619\n",
            "Epoch 34/100\n",
            "250/250 [==============================] - 0s 909us/step - loss: 0.3411 - accuracy: 0.8609\n",
            "Epoch 35/100\n",
            "250/250 [==============================] - 0s 991us/step - loss: 0.3404 - accuracy: 0.8611\n",
            "Epoch 36/100\n",
            "250/250 [==============================] - 0s 999us/step - loss: 0.3396 - accuracy: 0.8619\n",
            "Epoch 37/100\n",
            "250/250 [==============================] - 0s 959us/step - loss: 0.3393 - accuracy: 0.8614\n",
            "Epoch 38/100\n",
            "250/250 [==============================] - 0s 932us/step - loss: 0.3390 - accuracy: 0.8622\n",
            "Epoch 39/100\n",
            "250/250 [==============================] - 0s 984us/step - loss: 0.3383 - accuracy: 0.8606\n",
            "Epoch 40/100\n",
            "250/250 [==============================] - 0s 978us/step - loss: 0.3392 - accuracy: 0.8619\n",
            "Epoch 41/100\n",
            "250/250 [==============================] - 0s 980us/step - loss: 0.3379 - accuracy: 0.8631\n",
            "Epoch 42/100\n",
            "250/250 [==============================] - 0s 990us/step - loss: 0.3378 - accuracy: 0.8626\n",
            "Epoch 43/100\n",
            "250/250 [==============================] - 0s 941us/step - loss: 0.3373 - accuracy: 0.8633\n",
            "Epoch 44/100\n",
            "250/250 [==============================] - 0s 988us/step - loss: 0.3376 - accuracy: 0.8614\n",
            "Epoch 45/100\n",
            "250/250 [==============================] - 0s 984us/step - loss: 0.3363 - accuracy: 0.8615\n",
            "Epoch 46/100\n",
            "250/250 [==============================] - 0s 1ms/step - loss: 0.3373 - accuracy: 0.8619\n",
            "Epoch 47/100\n",
            "250/250 [==============================] - 0s 979us/step - loss: 0.3365 - accuracy: 0.8627\n",
            "Epoch 48/100\n",
            "250/250 [==============================] - 0s 988us/step - loss: 0.3365 - accuracy: 0.8620\n",
            "Epoch 49/100\n",
            "250/250 [==============================] - 0s 941us/step - loss: 0.3361 - accuracy: 0.8629\n",
            "Epoch 50/100\n",
            "250/250 [==============================] - 0s 931us/step - loss: 0.3359 - accuracy: 0.8621\n",
            "Epoch 51/100\n",
            "250/250 [==============================] - 0s 920us/step - loss: 0.3365 - accuracy: 0.8631\n",
            "Epoch 52/100\n",
            "250/250 [==============================] - 0s 1ms/step - loss: 0.3359 - accuracy: 0.8611\n",
            "Epoch 53/100\n",
            "250/250 [==============================] - 0s 948us/step - loss: 0.3353 - accuracy: 0.8624\n",
            "Epoch 54/100\n",
            "250/250 [==============================] - 0s 958us/step - loss: 0.3354 - accuracy: 0.8634\n",
            "Epoch 55/100\n",
            "250/250 [==============================] - 0s 948us/step - loss: 0.3349 - accuracy: 0.8637\n",
            "Epoch 56/100\n",
            "250/250 [==============================] - 0s 1ms/step - loss: 0.3349 - accuracy: 0.8627\n",
            "Epoch 57/100\n",
            "250/250 [==============================] - 0s 1ms/step - loss: 0.3350 - accuracy: 0.8641\n",
            "Epoch 58/100\n",
            "250/250 [==============================] - 0s 920us/step - loss: 0.3340 - accuracy: 0.8620\n",
            "Epoch 59/100\n",
            "250/250 [==============================] - 0s 953us/step - loss: 0.3338 - accuracy: 0.8635\n",
            "Epoch 60/100\n",
            "250/250 [==============================] - 0s 982us/step - loss: 0.3338 - accuracy: 0.8633\n",
            "Epoch 61/100\n",
            "250/250 [==============================] - 0s 936us/step - loss: 0.3335 - accuracy: 0.8644\n",
            "Epoch 62/100\n",
            "250/250 [==============================] - 0s 973us/step - loss: 0.3337 - accuracy: 0.8627\n",
            "Epoch 63/100\n",
            "250/250 [==============================] - 0s 1ms/step - loss: 0.3331 - accuracy: 0.8646\n",
            "Epoch 64/100\n",
            "250/250 [==============================] - 0s 989us/step - loss: 0.3327 - accuracy: 0.8635\n",
            "Epoch 65/100\n",
            "250/250 [==============================] - 0s 1ms/step - loss: 0.3320 - accuracy: 0.8633\n",
            "Epoch 66/100\n",
            "250/250 [==============================] - 0s 1ms/step - loss: 0.3319 - accuracy: 0.8635\n",
            "Epoch 67/100\n",
            "250/250 [==============================] - 0s 1ms/step - loss: 0.3320 - accuracy: 0.8640\n",
            "Epoch 68/100\n",
            "250/250 [==============================] - 0s 1ms/step - loss: 0.3315 - accuracy: 0.8644\n",
            "Epoch 69/100\n",
            "250/250 [==============================] - 0s 1ms/step - loss: 0.3318 - accuracy: 0.8627\n",
            "Epoch 70/100\n",
            "250/250 [==============================] - 0s 1ms/step - loss: 0.3313 - accuracy: 0.8649\n",
            "Epoch 71/100\n",
            "250/250 [==============================] - 0s 1ms/step - loss: 0.3312 - accuracy: 0.8639\n",
            "Epoch 72/100\n",
            "250/250 [==============================] - 0s 1ms/step - loss: 0.3309 - accuracy: 0.8629\n",
            "Epoch 73/100\n",
            "250/250 [==============================] - 0s 1ms/step - loss: 0.3310 - accuracy: 0.8651\n",
            "Epoch 74/100\n",
            "250/250 [==============================] - 0s 1ms/step - loss: 0.3311 - accuracy: 0.8633\n",
            "Epoch 75/100\n",
            "250/250 [==============================] - 0s 1ms/step - loss: 0.3301 - accuracy: 0.8636\n",
            "Epoch 76/100\n",
            "250/250 [==============================] - 0s 1ms/step - loss: 0.3299 - accuracy: 0.8646\n",
            "Epoch 77/100\n",
            "250/250 [==============================] - 0s 1ms/step - loss: 0.3305 - accuracy: 0.8640\n",
            "Epoch 78/100\n",
            "250/250 [==============================] - 0s 2ms/step - loss: 0.3307 - accuracy: 0.8640\n",
            "Epoch 79/100\n",
            "250/250 [==============================] - 0s 1ms/step - loss: 0.3300 - accuracy: 0.8634\n",
            "Epoch 80/100\n",
            "250/250 [==============================] - 0s 1ms/step - loss: 0.3304 - accuracy: 0.8648\n",
            "Epoch 81/100\n",
            "250/250 [==============================] - 0s 1ms/step - loss: 0.3304 - accuracy: 0.8630\n",
            "Epoch 82/100\n",
            "250/250 [==============================] - 0s 1ms/step - loss: 0.3295 - accuracy: 0.8624\n",
            "Epoch 83/100\n",
            "250/250 [==============================] - 0s 1ms/step - loss: 0.3300 - accuracy: 0.8637\n",
            "Epoch 84/100\n",
            "250/250 [==============================] - 0s 1ms/step - loss: 0.3295 - accuracy: 0.8644\n",
            "Epoch 85/100\n",
            "250/250 [==============================] - 0s 1ms/step - loss: 0.3296 - accuracy: 0.8636\n",
            "Epoch 86/100\n",
            "250/250 [==============================] - 0s 1ms/step - loss: 0.3295 - accuracy: 0.8644\n",
            "Epoch 87/100\n",
            "250/250 [==============================] - 0s 1ms/step - loss: 0.3299 - accuracy: 0.8655\n",
            "Epoch 88/100\n",
            "250/250 [==============================] - 0s 1ms/step - loss: 0.3291 - accuracy: 0.8641\n",
            "Epoch 89/100\n",
            "250/250 [==============================] - 0s 1ms/step - loss: 0.3293 - accuracy: 0.8637\n",
            "Epoch 90/100\n",
            "250/250 [==============================] - 0s 1ms/step - loss: 0.3294 - accuracy: 0.8640\n",
            "Epoch 91/100\n",
            "250/250 [==============================] - 0s 1ms/step - loss: 0.3290 - accuracy: 0.8655\n",
            "Epoch 92/100\n",
            "250/250 [==============================] - 0s 1ms/step - loss: 0.3289 - accuracy: 0.8634\n",
            "Epoch 93/100\n",
            "250/250 [==============================] - 0s 1ms/step - loss: 0.3287 - accuracy: 0.8625\n",
            "Epoch 94/100\n",
            "250/250 [==============================] - 0s 1ms/step - loss: 0.3287 - accuracy: 0.8654\n",
            "Epoch 95/100\n",
            "250/250 [==============================] - 0s 1ms/step - loss: 0.3283 - accuracy: 0.8659\n",
            "Epoch 96/100\n",
            "250/250 [==============================] - 0s 1ms/step - loss: 0.3287 - accuracy: 0.8665\n",
            "Epoch 97/100\n",
            "250/250 [==============================] - 0s 1ms/step - loss: 0.3280 - accuracy: 0.8654\n",
            "Epoch 98/100\n",
            "250/250 [==============================] - 0s 2ms/step - loss: 0.3277 - accuracy: 0.8649\n",
            "Epoch 99/100\n",
            "250/250 [==============================] - 0s 1ms/step - loss: 0.3283 - accuracy: 0.8620\n",
            "Epoch 100/100\n",
            "250/250 [==============================] - 0s 954us/step - loss: 0.3286 - accuracy: 0.8644\n"
          ],
          "name": "stdout"
        },
        {
          "output_type": "execute_result",
          "data": {
            "text/plain": [
              "<tensorflow.python.keras.callbacks.History at 0x7f2d8246ef60>"
            ]
          },
          "metadata": {
            "tags": []
          },
          "execution_count": 24
        }
      ]
    },
    {
      "cell_type": "markdown",
      "metadata": {
        "id": "EzGW3xRR6U9E",
        "colab_type": "text"
      },
      "source": [
        "# Validate the model and build the confusion matrix and accurcy score"
      ]
    },
    {
      "cell_type": "markdown",
      "metadata": {
        "id": "lxXqxFf46oxM",
        "colab_type": "text"
      },
      "source": [
        "As we are using sigmoid activation function the output will be probability so we are using threshold to define 1 and zero "
      ]
    },
    {
      "cell_type": "code",
      "metadata": {
        "id": "hEvXJj8Z6dnm",
        "colab_type": "code",
        "colab": {}
      },
      "source": [
        "threshold = .5\n",
        "y_predict = ann.predict(validatedf_indep) > threshold"
      ],
      "execution_count": 26,
      "outputs": []
    },
    {
      "cell_type": "markdown",
      "metadata": {
        "id": "aGfdaktO7FY9",
        "colab_type": "text"
      },
      "source": [
        "## Compare model output with the validate date "
      ]
    },
    {
      "cell_type": "code",
      "metadata": {
        "id": "t5nBUeEI7Lnw",
        "colab_type": "code",
        "colab": {
          "base_uri": "https://localhost:8080/",
          "height": 136
        },
        "outputId": "e5e830aa-5868-462c-b98a-5f535a938c5f"
      },
      "source": [
        "vald_array = validatedf_dep.to_numpy()\n",
        "print(np.concatenate((y_predict.reshape(len(y_predict),1),vald_array.reshape(len(vald_array),1)),1))"
      ],
      "execution_count": 27,
      "outputs": [
        {
          "output_type": "stream",
          "text": [
            "[[0 0]\n",
            " [0 0]\n",
            " [0 0]\n",
            " ...\n",
            " [0 1]\n",
            " [0 0]\n",
            " [1 1]]\n"
          ],
          "name": "stdout"
        }
      ]
    },
    {
      "cell_type": "markdown",
      "metadata": {
        "id": "_JbuRTdO7Z0_",
        "colab_type": "text"
      },
      "source": [
        "## Build Confusion matrix and Accurecy Score"
      ]
    },
    {
      "cell_type": "code",
      "metadata": {
        "id": "VxLCB3dl7cB5",
        "colab_type": "code",
        "colab": {
          "base_uri": "https://localhost:8080/",
          "height": 68
        },
        "outputId": "983bde6d-3af3-40f7-acd6-98cdbfe05df4"
      },
      "source": [
        "from sklearn.metrics import confusion_matrix, accuracy_score\n",
        "con_matrix = confusion_matrix(vald_array,y_predict)\n",
        "print(con_matrix)\n",
        "acc_score = accuracy_score(vald_array,y_predict)\n",
        "print(acc_score)"
      ],
      "execution_count": 28,
      "outputs": [
        {
          "output_type": "stream",
          "text": [
            "[[1528   65]\n",
            " [ 214  193]]\n",
            "0.8605\n"
          ],
          "name": "stdout"
        }
      ]
    }
  ]
}